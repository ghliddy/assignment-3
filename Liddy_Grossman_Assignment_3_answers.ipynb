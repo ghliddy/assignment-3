{
  "cells": [
    {
      "cell_type": "markdown",
      "metadata": {
        "id": "view-in-github",
        "colab_type": "text"
      },
      "source": [
        "<a href=\"https://colab.research.google.com/github/ghliddy/assignment-3/blob/main/Liddy_Grossman_Assignment_3_answers.ipynb\" target=\"_parent\"><img src=\"https://colab.research.google.com/assets/colab-badge.svg\" alt=\"Open In Colab\"/></a>"
      ]
    },
    {
      "cell_type": "markdown",
      "metadata": {
        "id": "TqBSdj3UQEZK"
      },
      "source": [
        "# Assignment 3: Advanced Python (30 pt)\n",
        "\n",
        "This assignment covers materials from the material on loops, functions, and NumPy lectures.\n",
        "\n",
        "Note that these questions are longer and somewhat more open ended than previous assignments. Please reach out if you need assistance getting started.\n",
        "\n",
        "Feel free to create as many Python or Markdown cells as you desire to answer the questions."
      ]
    },
    {
      "cell_type": "markdown",
      "metadata": {
        "id": "FNDQbkFjQEZQ"
      },
      "source": [
        "## Question 1: For loops (10 pts)\n",
        "\n",
        "Below, we have a nested dictionary structure containing information about several species ranging from vulnerable to critically endangered. Note than in some cases, species populations are listed as `None`. This means that the wild populations of these species are unknown. \n",
        "\n",
        "Use for loops to accomplish the following tasks: \n",
        "\n",
        "- Create a data structure containing all unique types of \"Threats\". This variable should not contain duplicate entries. Print the structure (2 pt).\n",
        "- Create a list of all of the species listed as \"Critically Endangered\". Print the list (2 pt).\n",
        "- Create a separate list containing the names of species with populations with fewer than 50 individuals and species with unknown population sizes. Print the list (3 pt).\n",
        "- Find the species with the largest population size. Print this species name, and what its population size is (3 pt).\n",
        "\n",
        "If you hard code the solutions (e.g. manually pick out which species has the largest population) you will receive NO points."
      ]
    },
    {
      "cell_type": "code",
      "execution_count": null,
      "metadata": {
        "id": "Z0NidHs9QEZS"
      },
      "outputs": [],
      "source": [
        "conservation_data = {\n",
        "    \"Giant Panda\": {\n",
        "        \"Status\": \"Endangered\",\n",
        "        \"Population\": 1800,\n",
        "        \"Threats\": [\"Habitat loss\", \"Poaching\"]\n",
        "    },\n",
        "    \"Mountain Gorilla\": {\n",
        "        \"Status\": \"Critically Endangered\",\n",
        "        \"Population\": 1063,\n",
        "        \"Threats\": [\"Habitat loss\", \"Poaching\", \"Civil unrest\"]\n",
        "    },\n",
        "    \"Amur Leopard\": {\n",
        "        \"Status\": \"Critically Endangered\",\n",
        "        \"Population\": 84,\n",
        "        \"Threats\": [\"Habitat loss\", \"Poaching\"]\n",
        "    },\n",
        "    \"Vaquita\": {\n",
        "        \"Status\": \"Critically Endangered\",\n",
        "        \"Population\": 10,\n",
        "        \"Threats\": [\"Bycatch in fishing nets\"]\n",
        "    },\n",
        "    \"African Elephant\": {\n",
        "        \"Status\": \"Vulnerable\",\n",
        "        \"Population\": 415000,\n",
        "        \"Threats\": [\"Habitat loss\", \"Poaching\"]\n",
        "    },\n",
        "    \"Javan Rhino\": {\n",
        "        \"Status\": \"Critically Endangered\",\n",
        "        \"Population\": 72,\n",
        "        \"Threats\": [\"Habitat loss\", \"Poaching\"]\n",
        "    },\n",
        "    \"Sumatran Orangutan\": {\n",
        "        \"Status\": \"Critically Endangered\",\n",
        "        \"Population\": 14600,\n",
        "        \"Threats\": [\"Habitat loss\", \"Poaching\"]\n",
        "    },\n",
        "    \"Hawksbill Turtle\": {\n",
        "        \"Status\": \"Critically Endangered\",\n",
        "        \"Population\": None,\n",
        "        \"Threats\": [\"Habitat loss\", \"Poaching\"]\n",
        "    },\n",
        "    \"Saola\": {\n",
        "        \"Status\": \"Critically Endangered\",\n",
        "        \"Population\": None,\n",
        "        \"Threats\": [\"Habitat loss\", \"Poaching\"]\n",
        "    },\n",
        "    \"Iberian Lynx\": {\n",
        "        \"Status\": \"Endangered\",\n",
        "        \"Population\": 94,\n",
        "        \"Threats\": [\"Habitat loss\", \"Poaching\"]\n",
        "    }\n",
        "}\n"
      ]
    },
    {
      "cell_type": "code",
      "source": [
        "#1\n",
        "listOfThreats = []\n",
        "\n",
        "for animal in conservation_data:\n",
        "  for threat in conservation_data[animal]:\n",
        "    if threat == \"Threats\":\n",
        "      for each in conservation_data[animal][\"Threats\"]:\n",
        "        if each not in listOfThreats:\n",
        "          listOfThreats.append(each)\n",
        "\n",
        "print(listOfThreats)"
      ],
      "metadata": {
        "colab": {
          "base_uri": "https://localhost:8080/"
        },
        "id": "LBY3scfa6B5R",
        "outputId": "451a0b98-caf3-41e3-ece0-1288e4678c6f"
      },
      "execution_count": null,
      "outputs": [
        {
          "output_type": "stream",
          "name": "stdout",
          "text": [
            "['Habitat loss', 'Poaching', 'Civil unrest', 'Bycatch in fishing nets']\n"
          ]
        }
      ]
    },
    {
      "cell_type": "code",
      "source": [
        "#2\n",
        "endangered_list =[]\n",
        "\n",
        "for animal in conservation_data:\n",
        "  for status in conservation_data[animal]:\n",
        "    if status == \"Status\":\n",
        "        if conservation_data[animal][\"Status\"] == \"Critically Endangered\":\n",
        "         endangered_list.append(animal)\n",
        "\n",
        "print(endangered_list)\n",
        "\n"
      ],
      "metadata": {
        "colab": {
          "base_uri": "https://localhost:8080/"
        },
        "id": "kfdykxr_6ikK",
        "outputId": "5dda203e-73d4-42ec-bf28-05f39b7949ec"
      },
      "execution_count": null,
      "outputs": [
        {
          "output_type": "stream",
          "name": "stdout",
          "text": [
            "['Mountain Gorilla', 'Amur Leopard', 'Vaquita', 'Javan Rhino', 'Sumatran Orangutan', 'Hawksbill Turtle', 'Saola']\n"
          ]
        }
      ]
    },
    {
      "cell_type": "code",
      "source": [
        "#3\n",
        "\n",
        "pop_list = []\n",
        "\n",
        "for animal in conservation_data:\n",
        "  for population in conservation_data[animal]:\n",
        "    if population == \"Population\":\n",
        "      if conservation_data[animal][\"Population\"]==None or conservation_data[animal][\"Population\"]<50:\n",
        "        pop_list.append(animal)\n",
        "        \n",
        "print(pop_list)\n",
        "        \n",
        "      \n",
        "\n"
      ],
      "metadata": {
        "colab": {
          "base_uri": "https://localhost:8080/"
        },
        "id": "0enNd_QDDBEG",
        "outputId": "5ca7afbe-8024-4ad4-ce8b-97fe751ab0cc"
      },
      "execution_count": null,
      "outputs": [
        {
          "output_type": "stream",
          "name": "stdout",
          "text": [
            "['Vaquita', 'Hawksbill Turtle', 'Saola']\n"
          ]
        }
      ]
    },
    {
      "cell_type": "code",
      "source": [
        "#4\n",
        "\n",
        "biggest_Population = 0\n",
        "biggest_Species = \"\"\n",
        "\n",
        "for animal in conservation_data:\n",
        "  for population in conservation_data[animal]:\n",
        "    if population == \"Population\":\n",
        "      if conservation_data[animal][\"Population\"] != None:\n",
        "        if conservation_data[animal][\"Population\"] > biggest_Population:\n",
        "          biggest_Population = conservation_data[animal][\"Population\"]\n",
        "          biggest_Species = animal\n",
        "\n",
        "print(biggest_Population)\n",
        "print(biggest_Species)"
      ],
      "metadata": {
        "colab": {
          "base_uri": "https://localhost:8080/"
        },
        "id": "zMq8avBoHuOf",
        "outputId": "8607f859-8517-4d23-edd2-109d6ecde5c8"
      },
      "execution_count": null,
      "outputs": [
        {
          "output_type": "stream",
          "name": "stdout",
          "text": [
            "415000\n",
            "African Elephant\n"
          ]
        }
      ]
    },
    {
      "cell_type": "markdown",
      "metadata": {
        "id": "AHFh2b8UQEZU"
      },
      "source": [
        "## Question 2: Functions (10 pt)\n",
        "\n",
        "When considering the health of an ecosystem, an important concept to quantify is the diversity of that system. There are several metrics commonly used to calculate ecosystem diversity, one of which is call Simpson's Diversity Index.\n",
        "\n",
        "This metric not takes into account how many species are present in an location, but also if one species has far more individuals than other species. For example, an ecosystem with 500 species but only one species above 10 individuals is not that diverse.\n",
        "\n",
        "We can calculate Simpson's Diversity ($D$) as follows:\n",
        "\n",
        "$D = 1 - [(\\frac{n_1}{N})^2 + (\\frac{n_2}{N})^2 + (\\frac{n_3}{N})^2 + ...]$\n",
        "\n",
        "For example, if an ecosystem has four species with 5, 2, 2, and 1 individuals (10 individuals total), you can calculate $D$ like this:\n",
        "\n",
        "$D = 1 - [(\\frac{5}{10})^2 + (\\frac{2}{10})^2 + (\\frac{2}{10})^2 + (\\frac{1}{10})^2] = 0.66$\n",
        "\n",
        "Define a function that calculates and returns $D$ given a list of species population levels, and run the function on several example lists (3 pt).\n",
        "\n",
        "Your answer should work for a list of **any** length (1 pt).\n",
        "\n",
        "Add documentation to the function that describes what it does, the desired parameters, and what data types the parameters should be (2 pt).\n",
        "\n",
        "Within the function, check that the input is a list. If the input is not a list, give a custom error message (2 pt).\n",
        "\n",
        "Also, make sure all entries in the list are integers. If there are floats, convert them to integers. If there are entries that are not floats or integers, give a custom error message (2 pt).\n",
        "\n"
      ]
    },
    {
      "cell_type": "code",
      "execution_count": null,
      "metadata": {
        "id": "t3TSHrDZQEZW"
      },
      "outputs": [],
      "source": [
        "# example_input = [1882, 400, 321, 24]\n",
        "import numpy as np\n"
      ]
    },
    {
      "cell_type": "code",
      "source": [
        "from traitlets.traitlets import List\n",
        "#1\n",
        "import numpy as np\n",
        "\n",
        "\n",
        "exampleInput1 = [5,2,2,1]\n",
        "exampleInput2 = [5,234,91238,213124]\n",
        "exampleInput3 = [5,1,2,4,6,2,5,2,5,1]\n",
        "exampleInput4 = \"1,2,4,5,1,4,5\"\n",
        "exampleInput5 = [\"1\",2,3,5,1]\n",
        "exampleInput6 = [5,1,3,5,3.2345,13.25234]\n",
        "\n",
        "def simpson_diversity(input):\n",
        "  if not isinstance(input, list):\n",
        "    return(\"Your input is not a list!\") \n",
        "  for each in input:\n",
        "    if isinstance(each, float):\n",
        "      each = int(each)\n",
        "    if isinstance(each,str):\n",
        "      return(\"One of your list elements was a string!\")\n",
        "\n",
        "  totalIndividuals = 0 #creates blank value for denominator\n",
        "  d = 0 #creates blank value for d\n",
        "  for each in input:\n",
        "    totalIndividuals += each #sums the numerators in order to create a denominator for a list of any size\n",
        "  totalDiversity = 0\n",
        "  for each in input:\n",
        "    totalDiversity += ((each/totalIndividuals)**2) #creates a new value for the variables in parentheses in the equation\n",
        "  d = 1-totalDiversity # order of operations. subtracts output for totalDiversity by 1 to get an answer for d\n",
        "  return(d) \n",
        "\n",
        "print(simpson_diversity(exampleInput1))\n",
        "print(simpson_diversity(exampleInput2))\n",
        "print(simpson_diversity(exampleInput3))\n",
        "print(simpson_diversity(exampleInput4))\n",
        "print(simpson_diversity(exampleInput5))\n",
        "print(simpson_diversity(exampleInput6))\n",
        "\n",
        "\n"
      ],
      "metadata": {
        "colab": {
          "base_uri": "https://localhost:8080/"
        },
        "id": "PW9F0uGjLtaw",
        "outputId": "3819ed52-9735-4090-aa76-139982881421"
      },
      "execution_count": null,
      "outputs": [
        {
          "output_type": "stream",
          "name": "stdout",
          "text": [
            "0.6599999999999999\n",
            "0.42072384193746626\n",
            "0.8705234159779615\n",
            "Your input is not a list!\n",
            "One of your list elements was a string!\n",
            "0.735233535287209\n"
          ]
        }
      ]
    },
    {
      "cell_type": "markdown",
      "metadata": {
        "id": "TD4r33OlQEZX"
      },
      "source": [
        "## Question 3: Simulating data (10 pt)\n",
        "\n",
        "In data analysis, we often simulate data to help test our predictions and get a feel for how the real data should be. This questions asks you to use the functions found in `numpy.random` to simulate rolling.\n",
        "\n",
        "Define a function called `dice_simulator()` with an integer parameter called `n`. This function should create a list of integers 1 through 6 and randomly sample this list with replacement `n` times. The function should return the `n` samples as a list or numpy array. Note that `n` should be a positive integer (2 pt).\n",
        "\n",
        "Define a function called `proportions()` to calculate what proportion of the \"rolls\" that are 1s, 2s, 3s, 4s, 5s, and 6s. Print these 6 proportions. `proportions()` should have a single parameter called `rolls`, which should take in the output of `dice_simulator()` (3 pt).\n",
        "\n",
        "Define a function called `three_streak()` to calculate the maximum number of times 3 was \"rolled\" in a row and print this value. To be in a row, the 3's have to be next to each other in a list (such as if `rolls[1]` and `rolls[2]` are both 3). Like `proportions()`, `three_streak()` should have a single parameter called `rolls`, which should take in the output of `dice_simulator()` (3 pt). \n",
        "- *Hint: `max()` is a built in function in Python that finds the largest value in a list.*\n",
        "\n",
        "Define a function called `simulation()` that calls `dice_simulator()`, `proportions()`, and `three_streak()`. Make sure that `proportions()` and `three_streak()` are called so that they use the same dice rolls. `simulation()` should take a single parameter `n` that is fed into `dice_simulator()`. Have this function print the value of n, as well (1 pt). \n",
        "\n",
        "Call `simulation()` several times with the `n` parameter at different values (1 pt). \n",
        "\n",
        "\n",
        "\n"
      ]
    },
    {
      "cell_type": "code",
      "source": [
        "\n",
        "def dice_simulator(n):\n",
        "  counter = 0\n",
        "  outlist = []\n",
        "  inlist = [1,2,3,4,5,6]\n",
        "  while counter < n:\n",
        "      outlist.append(np.random.choice(inlist))\n",
        "      counter+=1\n",
        "  return(outlist)\n",
        "\n",
        "\n",
        "\n",
        "def proportions(rolls):\n",
        "  rollsCounter = [0,0,0,0,0,0,]\n",
        "  for each in rolls:\n",
        "    rollsCounter[each-1] += 1\n",
        "    print(\"1,2,3,4,5,6 were rolled\", rollsCounter, \"times\")\n",
        "  else:\n",
        "    print('invalid')\n",
        "\n",
        "def three_streak(rolls):\n",
        "  counter = [0]\n",
        "  x = 0\n",
        "  for each in rolls:\n",
        "    if each == 3:\n",
        "      counter[x]+= 1\n",
        "    if each != 3:\n",
        "      x+=1\n",
        "      counter.append(0)\n",
        "  print(\"3 was rolled\", max(counter),\"times in a row\")\n",
        "\n",
        "def simulation(n):\n",
        "  if isinstance(n,int) and n>0:\n",
        "    print(n,\"dice were rolled\")\n",
        "    rolls = dice_simulator(n)\n",
        "    proportions(rolls)\n",
        "    three_streak(rolls)\n",
        "  else:\n",
        "    print(\"Invalid n\")\n",
        "\n",
        "simulation(6)\n",
        "print()\n",
        "simulation(3)\n",
        "print()\n",
        "simulation(-1)\n",
        "print()\n",
        "simulation(0)\n",
        "print()\n",
        "simulation(\"n\")\n",
        "print()\n",
        "simulation(23)\n",
        "\n"
      ],
      "metadata": {
        "colab": {
          "base_uri": "https://localhost:8080/"
        },
        "id": "KDb0yrEoell4",
        "outputId": "9416a798-959d-4c7e-b9d2-eedbae63625b"
      },
      "execution_count": null,
      "outputs": [
        {
          "output_type": "stream",
          "name": "stdout",
          "text": [
            "6 dice were rolled\n",
            "1,2,3,4,5,6 were rolled [0, 0, 0, 0, 0, 1] times\n",
            "1,2,3,4,5,6 were rolled [0, 0, 1, 0, 0, 1] times\n",
            "1,2,3,4,5,6 were rolled [0, 1, 1, 0, 0, 1] times\n",
            "1,2,3,4,5,6 were rolled [0, 1, 1, 0, 1, 1] times\n",
            "1,2,3,4,5,6 were rolled [0, 1, 1, 0, 2, 1] times\n",
            "1,2,3,4,5,6 were rolled [0, 1, 1, 0, 2, 2] times\n",
            "invalid\n",
            "3 was rolled 1 times in a row\n",
            "\n",
            "3 dice were rolled\n",
            "1,2,3,4,5,6 were rolled [0, 1, 0, 0, 0, 0] times\n",
            "1,2,3,4,5,6 were rolled [0, 2, 0, 0, 0, 0] times\n",
            "1,2,3,4,5,6 were rolled [0, 2, 0, 0, 0, 1] times\n",
            "invalid\n",
            "3 was rolled 0 times in a row\n",
            "\n",
            "Invalid n\n",
            "\n",
            "Invalid n\n",
            "\n",
            "Invalid n\n",
            "\n",
            "23 dice were rolled\n",
            "1,2,3,4,5,6 were rolled [0, 0, 1, 0, 0, 0] times\n",
            "1,2,3,4,5,6 were rolled [0, 0, 1, 0, 0, 1] times\n",
            "1,2,3,4,5,6 were rolled [0, 1, 1, 0, 0, 1] times\n",
            "1,2,3,4,5,6 were rolled [0, 1, 1, 0, 0, 2] times\n",
            "1,2,3,4,5,6 were rolled [0, 1, 1, 0, 1, 2] times\n",
            "1,2,3,4,5,6 were rolled [0, 1, 1, 0, 2, 2] times\n",
            "1,2,3,4,5,6 were rolled [1, 1, 1, 0, 2, 2] times\n",
            "1,2,3,4,5,6 were rolled [1, 2, 1, 0, 2, 2] times\n",
            "1,2,3,4,5,6 were rolled [2, 2, 1, 0, 2, 2] times\n",
            "1,2,3,4,5,6 were rolled [2, 2, 2, 0, 2, 2] times\n",
            "1,2,3,4,5,6 were rolled [2, 2, 3, 0, 2, 2] times\n",
            "1,2,3,4,5,6 were rolled [2, 3, 3, 0, 2, 2] times\n",
            "1,2,3,4,5,6 were rolled [3, 3, 3, 0, 2, 2] times\n",
            "1,2,3,4,5,6 were rolled [3, 3, 3, 1, 2, 2] times\n",
            "1,2,3,4,5,6 were rolled [3, 3, 3, 1, 3, 2] times\n",
            "1,2,3,4,5,6 were rolled [4, 3, 3, 1, 3, 2] times\n",
            "1,2,3,4,5,6 were rolled [4, 3, 3, 1, 4, 2] times\n",
            "1,2,3,4,5,6 were rolled [4, 3, 3, 1, 4, 3] times\n",
            "1,2,3,4,5,6 were rolled [4, 3, 3, 1, 4, 4] times\n",
            "1,2,3,4,5,6 were rolled [4, 3, 3, 2, 4, 4] times\n",
            "1,2,3,4,5,6 were rolled [5, 3, 3, 2, 4, 4] times\n",
            "1,2,3,4,5,6 were rolled [5, 3, 3, 2, 5, 4] times\n",
            "1,2,3,4,5,6 were rolled [5, 3, 4, 2, 5, 4] times\n",
            "invalid\n",
            "3 was rolled 2 times in a row\n"
          ]
        }
      ]
    }
  ],
  "metadata": {
    "kernelspec": {
      "display_name": "Python 3.9.12 ('base')",
      "language": "python",
      "name": "python3"
    },
    "language_info": {
      "codemirror_mode": {
        "name": "ipython",
        "version": 3
      },
      "file_extension": ".py",
      "mimetype": "text/x-python",
      "name": "python",
      "nbconvert_exporter": "python",
      "pygments_lexer": "ipython3",
      "version": "3.9.12"
    },
    "orig_nbformat": 4,
    "vscode": {
      "interpreter": {
        "hash": "b52b534d3e8b2df8a7f375ea8b488ed7c2e546a5d77230d70bd2c6badbd8c861"
      }
    },
    "colab": {
      "provenance": [],
      "include_colab_link": true
    }
  },
  "nbformat": 4,
  "nbformat_minor": 0
}